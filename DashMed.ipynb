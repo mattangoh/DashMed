{
 "cells": [
  {
   "cell_type": "code",
   "execution_count": 38,
   "metadata": {},
   "outputs": [],
   "source": [
    "import sqlite3 as sql\n",
    "import pandas as pd\n",
    "import os"
   ]
  },
  {
   "cell_type": "code",
   "execution_count": 43,
   "metadata": {},
   "outputs": [],
   "source": [
    "class SQLiteDB:\n",
    "    \n",
    "    def __init__(self, db):\n",
    "        self.db = db\n",
    "        self.conn = None\n",
    "        \n",
    "    def connect(self):\n",
    "        \"\"\"Create a database connection to the SQLite database.\"\"\"\n",
    "        try:\n",
    "            self.conn = sql.connect(self.db)\n",
    "        except sql.Error as e:\n",
    "            print(e)\n",
    "            \n",
    "    def create_table(self, create_table_sql):\n",
    "        \"\"\"Create a table from the create_table_sql statement.\"\"\"\n",
    "        try:\n",
    "            c = self.conn.cursor()\n",
    "            c.execute(create_table_sql)\n",
    "            print(\"Table created successfully\")\n",
    "        except sql.Error as e:\n",
    "            print(e)\n",
    "    \n",
    "    def delete_table(self, table_name):\n",
    "        \"\"\"Delete a table from the database.\"\"\"\n",
    "        try:\n",
    "            c = self.conn.cursor()\n",
    "            c.execute(f\"DROP TABLE IF EXISTS {table_name}\")\n",
    "            print(f\"Table {table_name} deleted successfully\")\n",
    "        except sql.Error as e:\n",
    "            print(e)\n",
    "    \n",
    "    def show_tables(self):\n",
    "        \"\"\"Display all tables in the database.\"\"\"\n",
    "        query = \"SELECT name FROM sqlite_master WHERE type='table';\"\n",
    "        try:\n",
    "            c = self.conn.cursor()\n",
    "            c.execute(query)\n",
    "            tables = c.fetchall()\n",
    "            print(\"Tables in the database:\")\n",
    "            for table in tables:\n",
    "                print(table[0])\n",
    "        except sql.Error as e:\n",
    "            print(e)\n",
    "    \n",
    "    def close(self):\n",
    "        \"\"\"Close the database connection.\"\"\"\n",
    "        if self.conn:\n",
    "            self.conn.close()\n",
    "            print(\"Connection Closed\")\n",
    "            \n",
    "    def insert_csv_data(self, csv_file):\n",
    "        \"\"\"\n",
    "        Add data from a CSV file to a table in the database.\n",
    "        \"\"\"\n",
    "        # Derive table name from the CSV file name (excluding the extension)\n",
    "        table_name = os.path.splitext(os.path.basename(csv_file))[0]\n",
    "        \n",
    "        df = pd.read_csv(csv_file)\n",
    "\n",
    "        # Insert the data into the table, create the table if it doesn't exist\n",
    "        df.to_sql(table_name, self.conn, if_exists='append', index=False)\n",
    "\n",
    "        print(f\"Data from {csv_file} added to {table_name} table.\")"
   ]
  },
  {
   "cell_type": "code",
   "execution_count": 63,
   "metadata": {},
   "outputs": [
    {
     "name": "stdout",
     "output_type": "stream",
     "text": [
      "Table created successfully\n",
      "Connection Closed\n"
     ]
    }
   ],
   "source": [
    "#create DashMed db\n",
    "\n",
    "dashmed = SQLiteDB('DashMed.db')\n",
    "\n",
    "patients = \"\"\"\n",
    "CREATE TABLE IF NOT EXISTS patients (\n",
    "  PatientId integer PRIMARY KEY,\n",
    "  FirstName text NOT NULL,\n",
    "  LastName text NOT NULL,\n",
    "  Address text NOT NULL,\n",
    "  Phone text NOT NULL,\n",
    "  Sex text NOT NULL,\n",
    "  Birthdate date NOT NULL,\n",
    "  Age integer NOT NULL,\n",
    "  RelatedPatients text,\n",
    "  MedicalHistory text,\n",
    "  Medication text  \n",
    ");\n",
    "\"\"\"\n",
    "\n",
    "dashmed.connect()\n",
    "dashmed.create_table(patients)\n",
    "dashmed.close()"
   ]
  },
  {
   "cell_type": "code",
   "execution_count": 64,
   "metadata": {},
   "outputs": [
    {
     "name": "stdout",
     "output_type": "stream",
     "text": [
      "Tables in the database:\n",
      "patients\n",
      "Connection Closed\n"
     ]
    }
   ],
   "source": [
    "#show tables\n",
    "\n",
    "dashmed.connect()\n",
    "dashmed.show_tables()\n",
    "dashmed.close()"
   ]
  },
  {
   "cell_type": "code",
   "execution_count": 65,
   "metadata": {},
   "outputs": [
    {
     "name": "stdout",
     "output_type": "stream",
     "text": [
      "Data from patient_data/patients.csv added to patients table.\n",
      "Connection Closed\n"
     ]
    }
   ],
   "source": [
    "#add data to patients\n",
    "\n",
    "dashmed.connect()\n",
    "dashmed.insert_csv_data('patient_data/patients.csv')\n",
    "dashmed.close()"
   ]
  },
  {
   "cell_type": "code",
   "execution_count": 62,
   "metadata": {},
   "outputs": [
    {
     "name": "stdout",
     "output_type": "stream",
     "text": [
      "Table patients deleted successfully\n",
      "Connection Closed\n"
     ]
    }
   ],
   "source": [
    "# confirm db is empty\n",
    "\n",
    "dashmed.connect()\n",
    "dashmed.delete_table('patients')\n",
    "dashmed.close()"
   ]
  },
  {
   "cell_type": "code",
   "execution_count": 75,
   "metadata": {},
   "outputs": [],
   "source": [
    "class Summary():\n",
    "    \"\"\" Summary class to retrieve patient data from an input patient ID. \"\"\"\n",
    "    \n",
    "    def __init__(self, db):\n",
    "        self.db = db\n",
    "        self.PatientId = None\n",
    "\n",
    "    def input_patient_id(self):\n",
    "        \"\"\" Input the patient ID number. \"\"\"\n",
    "        self.PatientId = input('Enter a patient ID: ')\n",
    "\n",
    "    def patient_exists(self):\n",
    "        \"\"\" Check if the patient ID number does exist in the database. \"\"\"\n",
    "        if self.PatientId is None:\n",
    "            return False\n",
    "        \n",
    "        query = 'SELECT COUNT(*) FROM patients WHERE PatientId = ?'  # Placeholder added\n",
    "\n",
    "        try:\n",
    "            self.db.connect()\n",
    "            cursor = self.db.conn.cursor()\n",
    "            cursor.execute(query, (self.PatientId,))  # Correctly binding the patient ID\n",
    "            result = cursor.fetchone()\n",
    "            return result[0] > 0\n",
    "        \n",
    "        except sql.Error as e:\n",
    "            print(e)\n",
    "            return False\n",
    "\n",
    "        finally:\n",
    "            self.db.close()\n",
    "\n",
    "    def getdata(self):\n",
    "        \"\"\" Return the row containing the patient information as a list. \"\"\"\n",
    "        if not self.patient_exists():\n",
    "            print(\"Patient ID not valid. Please input valid patient ID.\")\n",
    "            return\n",
    "\n",
    "        query = 'SELECT * FROM patients WHERE PatientId = ?'  # Placeholder added\n",
    "\n",
    "        try:\n",
    "            self.db.connect()\n",
    "            cursor = self.db.conn.cursor()\n",
    "            cursor.execute(query, (self.PatientId,))  # Correctly binding the patient ID\n",
    "            patient_data = [n for n in cursor.fetchone()]\n",
    "            \n",
    "            return patient_data\n",
    "        \n",
    "        except sql.Error as e:\n",
    "            print(e)\n",
    "\n",
    "        finally:\n",
    "            self.db.close()\n"
   ]
  },
  {
   "cell_type": "code",
   "execution_count": 76,
   "metadata": {},
   "outputs": [],
   "source": [
    "test = Summary(dashmed)\n",
    "test.input_patient_id()"
   ]
  },
  {
   "cell_type": "code",
   "execution_count": 77,
   "metadata": {},
   "outputs": [
    {
     "name": "stdout",
     "output_type": "stream",
     "text": [
      "Connection Closed\n",
      "Connection Closed\n"
     ]
    },
    {
     "data": {
      "text/plain": [
       "[23989,\n",
       " 'Edward',\n",
       " 'Johnson',\n",
       " '101 Maple Ave',\n",
       " '(555) 123-4567',\n",
       " 'M',\n",
       " '1989-01-24',\n",
       " 34,\n",
       " 'Diana Smith',\n",
       " 'Hypertension',\n",
       " 'Lisinopril']"
      ]
     },
     "execution_count": 77,
     "metadata": {},
     "output_type": "execute_result"
    }
   ],
   "source": [
    "test.getdata()"
   ]
  }
 ],
 "metadata": {
  "kernelspec": {
   "display_name": "myenv",
   "language": "python",
   "name": "python3"
  },
  "language_info": {
   "codemirror_mode": {
    "name": "ipython",
    "version": 3
   },
   "file_extension": ".py",
   "mimetype": "text/x-python",
   "name": "python",
   "nbconvert_exporter": "python",
   "pygments_lexer": "ipython3",
   "version": "3.11.5"
  }
 },
 "nbformat": 4,
 "nbformat_minor": 2
}
