{
 "cells": [
  {
   "cell_type": "code",
   "execution_count": 12,
   "metadata": {},
   "outputs": [],
   "source": [
    "import sqlite3 as sql\n",
    "import pandas as pd"
   ]
  },
  {
   "cell_type": "code",
   "execution_count": 13,
   "metadata": {},
   "outputs": [],
   "source": [
    "class SQLiteDB:\n",
    "    \n",
    "    def __init__(self, db):\n",
    "        self.db = db\n",
    "        self.conn = None\n",
    "        \n",
    "    def connect(self):\n",
    "        \"\"\"Create a database connection to the SQLite database.\"\"\"\n",
    "        try:\n",
    "            self.conn = sql.connect(self.db)\n",
    "        except sql.Error as e:\n",
    "            print(e)\n",
    "            \n",
    "    def create_table(self, create_table_sql):\n",
    "        \"\"\"Create a table from the create_table_sql statement.\"\"\"\n",
    "        try:\n",
    "            c = self.conn.cursor()\n",
    "            c.execute(create_table_sql)\n",
    "            print(\"Table created successfully\")\n",
    "        except sql.Error as e:\n",
    "            print(e)\n",
    "    \n",
    "    def delete_table(self, table_name):\n",
    "        \"\"\"Delete a table from the database.\"\"\"\n",
    "        try:\n",
    "            c = self.conn.cursor()\n",
    "            c.execute(f\"DROP TABLE IF EXISTS {table_name}\")\n",
    "            print(f\"Table {table_name} deleted successfully\")\n",
    "        except sql.Error as e:\n",
    "            print(e)\n",
    "    \n",
    "    def show_tables(self):\n",
    "        \"\"\"Display all tables in the database.\"\"\"\n",
    "        query = \"SELECT name FROM sqlite_master WHERE type='table';\"\n",
    "        try:\n",
    "            c = self.conn.cursor()\n",
    "            c.execute(query)\n",
    "            tables = c.fetchall()\n",
    "            print(\"Tables in the database:\")\n",
    "            for table in tables:\n",
    "                print(table[0])\n",
    "        except sql.Error as e:\n",
    "            print(e)\n",
    "    \n",
    "    def close(self):\n",
    "        \"\"\"Close the database connection.\"\"\"\n",
    "        if self.conn:\n",
    "            self.conn.close()\n",
    "            print(\"Connection Closed\")\n",
    "            "
   ]
  },
  {
   "cell_type": "code",
   "execution_count": 14,
   "metadata": {},
   "outputs": [
    {
     "name": "stdout",
     "output_type": "stream",
     "text": [
      "Table created successfully\n",
      "Connection Closed\n"
     ]
    }
   ],
   "source": [
    "#create DashMed db\n",
    "\n",
    "dashmed = SQLiteDB('DashMed.db')\n",
    "\n",
    "test_table = \"\"\"\n",
    "CREATE TABLE test (\n",
    "  PatientId integer PRIMARY KEY,\n",
    "  FirstName text NOT NULL,\n",
    "  LastName text NOT NULL,\n",
    "  Address text NOT NULL,\n",
    "  Phone text NOT NULL,\n",
    "  Sex text NOT NULL,\n",
    "  Birthdate date NOT NULL,\n",
    "  Age integer NOT NULL,\n",
    "  RelatedPatient text,\n",
    "  MedicalHistory text,\n",
    "  Medication text  \n",
    ");\n",
    "\"\"\"\n",
    "\n",
    "dashmed.connect()\n",
    "dashmed.create_table(test_table)\n",
    "dashmed.close()"
   ]
  },
  {
   "cell_type": "code",
   "execution_count": 15,
   "metadata": {},
   "outputs": [
    {
     "name": "stdout",
     "output_type": "stream",
     "text": [
      "Tables in the database:\n",
      "test\n",
      "Connection Closed\n"
     ]
    }
   ],
   "source": [
    "#show tables\n",
    "\n",
    "dashmed.connect()\n",
    "dashmed.show_tables()\n",
    "dashmed.close()"
   ]
  },
  {
   "cell_type": "code",
   "execution_count": 16,
   "metadata": {},
   "outputs": [
    {
     "name": "stdout",
     "output_type": "stream",
     "text": [
      "Table test deleted successfully\n",
      "Connection Closed\n"
     ]
    }
   ],
   "source": [
    "#delete tables\n",
    "\n",
    "dashmed.connect()\n",
    "dashmed.delete_table('test')\n",
    "dashmed.close()"
   ]
  },
  {
   "cell_type": "code",
   "execution_count": 17,
   "metadata": {},
   "outputs": [
    {
     "name": "stdout",
     "output_type": "stream",
     "text": [
      "Tables in the database:\n",
      "Connection Closed\n"
     ]
    }
   ],
   "source": [
    "# confirm db is empty\n",
    "\n",
    "dashmed.connect()\n",
    "dashmed.show_tables()\n",
    "dashmed.close()"
   ]
  },
  {
   "cell_type": "code",
   "execution_count": 19,
   "metadata": {},
   "outputs": [],
   "source": [
    "class Summary():\n",
    "    \"\"\" Summary class to retrieve patient data from an input patient ID. \"\"\"\n",
    "    \n",
    "    def __init__(self, db):\n",
    "        self.db = db\n",
    "        self.PatientId = None\n",
    "\n",
    "    def input_patient_id(self):\n",
    "        \"\"\" Input the patient ID number. \"\"\"\n",
    "        self.PatientId = input('Enter a patient ID: ')\n",
    "\n",
    "    def patient_exists(self):\n",
    "        \"\"\" Check if the patient ID number does exist in the database. \"\"\"\n",
    "        if self.PatientId is None:\n",
    "            return False\n",
    "        \n",
    "        query = f'SELECT COUNT(*) FROM patients WHERE PatientId = {self.PatientId}'\n",
    "\n",
    "        try:\n",
    "            self.db.connect()\n",
    "            cursor = self.db.conn.cursor()\n",
    "            cursor.execute(query, (self.PatientId,))\n",
    "            result = cursor.fetchone()\n",
    "            return result[0] > 0\n",
    "        \n",
    "        except sql.Error as e:\n",
    "            print(e)\n",
    "            return False\n",
    "\n",
    "        finally:\n",
    "            self.db.close()\n",
    "\n",
    "    def getdata(self):\n",
    "        \"\"\" Return the row containing the patient information as a list. \"\"\"\n",
    "        if not self.patient_exists():\n",
    "            print(\"Patient ID not valid. Please input valid patient ID.\")\n",
    "            return\n",
    "\n",
    "        query = f'SELECT * FROM patients WHERE PatientId = {self.PatientId}'\n",
    "\n",
    "        try:\n",
    "            self.db.connect()\n",
    "            cursor = self.db.conn.cursor()\n",
    "            cursor.execute(query)\n",
    "            patient_data = [n for n in cursor.fetchone()]\n",
    "            \n",
    "            return patient_data\n",
    "        \n",
    "        except sql.Error as e:\n",
    "            print(e)\n",
    "\n",
    "        finally:\n",
    "            self.db.close()\n"
   ]
  },
  {
   "cell_type": "code",
   "execution_count": null,
   "metadata": {},
   "outputs": [],
   "source": []
  }
 ],
 "metadata": {
  "kernelspec": {
   "display_name": "myenv",
   "language": "python",
   "name": "python3"
  },
  "language_info": {
   "codemirror_mode": {
    "name": "ipython",
    "version": 3
   },
   "file_extension": ".py",
   "mimetype": "text/x-python",
   "name": "python",
   "nbconvert_exporter": "python",
   "pygments_lexer": "ipython3",
   "version": "3.11.4"
  }
 },
 "nbformat": 4,
 "nbformat_minor": 2
}
