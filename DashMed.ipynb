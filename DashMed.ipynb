{
 "cells": [
  {
   "cell_type": "code",
   "execution_count": 43,
   "metadata": {},
   "outputs": [],
   "source": [
    "import sqlite3 as sql\n",
    "import pandas as pd\n",
    "import os"
   ]
  },
  {
   "cell_type": "code",
   "execution_count": 53,
   "metadata": {},
   "outputs": [],
   "source": [
    "class SQLiteDB:\n",
    "    \n",
    "    def __init__(self, db):\n",
    "        self.db = db\n",
    "        self.conn = None\n",
    "        \n",
    "    def connect(self):\n",
    "        \"\"\"Create a database connection to the SQLite database.\"\"\"\n",
    "        try:\n",
    "            self.conn = sql.connect(self.db)\n",
    "        except sql.Error as e:\n",
    "            print(e)\n",
    "            \n",
    "    def create_table(self, create_table_sql):\n",
    "        \"\"\"Create a table from the create_table_sql statement.\"\"\"\n",
    "        try:\n",
    "            c = self.conn.cursor()\n",
    "            c.execute(create_table_sql)\n",
    "            print(\"Table created successfully\")\n",
    "        except sql.Error as e:\n",
    "            print(e)\n",
    "    \n",
    "    def delete_table(self, table_name):\n",
    "        \"\"\"Delete a table from the database.\"\"\"\n",
    "        try:\n",
    "            c = self.conn.cursor()\n",
    "            c.execute(f\"DROP TABLE IF EXISTS {table_name}\")\n",
    "            print(f\"Table {table_name} deleted successfully\")\n",
    "        except sql.Error as e:\n",
    "            print(e)\n",
    "    \n",
    "    def show_tables(self):\n",
    "        \"\"\"Display all tables in the database.\"\"\"\n",
    "        query = \"SELECT name FROM sqlite_master WHERE type='table';\"\n",
    "        try:\n",
    "            c = self.conn.cursor()\n",
    "            c.execute(query)\n",
    "            tables = c.fetchall()\n",
    "            print(\"Tables in the database:\")\n",
    "            for table in tables:\n",
    "                print(table[0])\n",
    "        except sql.Error as e:\n",
    "            print(e)\n",
    "    \n",
    "    def close(self):\n",
    "        \"\"\"Close the database connection.\"\"\"\n",
    "        if self.conn:\n",
    "            self.conn.close()\n",
    "            print(\"Connection Closed\")\n",
    "            \n",
    "    def insert_csv_data(self, csv_file):\n",
    "        \"\"\"\n",
    "        Add data from a CSV file to a table in the database.\n",
    "        \"\"\"\n",
    "        # Derive table name from the CSV file name (excluding the extension)\n",
    "        table_name = os.path.splitext(os.path.basename(csv_file))[0]\n",
    "        \n",
    "        df = pd.read_csv(csv_file)\n",
    "\n",
    "        if table_name == 'patients':\n",
    "        # Insert the data into the table, create the table if it doesn't exist\n",
    "            df.to_sql(table_name, self.conn, if_exists='append', index=False)\n",
    "\n",
    "            print(f\"Data from {csv_file} added to {table_name} table.\")\n",
    "        \n",
    "        # replace data if it exists for BP csv files since there is no primary key?\n",
    "        else:\n",
    "            df.to_sql(table_name, self.conn, if_exists='replace', index=False)\n",
    "\n",
    "            print(f\"Data from {csv_file} added to {table_name} table.\")"
   ]
  },
  {
   "cell_type": "code",
   "execution_count": 54,
   "metadata": {},
   "outputs": [
    {
     "name": "stdout",
     "output_type": "stream",
     "text": [
      "Table patients deleted successfully\n",
      "Table created successfully\n",
      "Data from patient_data/patients.csv added to patients table.\n",
      "Tables in the database:\n",
      "23989_BP\n",
      "30110_BP\n",
      "30111_BP\n",
      "33764_BP\n",
      "40284_BP\n",
      "54658_BP\n",
      "57180_BP\n",
      "97021_BP\n",
      "patients\n",
      "Connection Closed\n"
     ]
    }
   ],
   "source": [
    "#create DashMed db and patients table\n",
    "\n",
    "dashmed = SQLiteDB('DashMed.db')\n",
    "\n",
    "patients = \"\"\"\n",
    "CREATE TABLE IF NOT EXISTS patients (\n",
    "  PatientId integer PRIMARY KEY,\n",
    "  FirstName text NOT NULL,\n",
    "  LastName text NOT NULL,\n",
    "  Address text NOT NULL,\n",
    "  Phone text NOT NULL,\n",
    "  Sex text NOT NULL,\n",
    "  Birthdate date NOT NULL,\n",
    "  Age integer NOT NULL,\n",
    "  RelatedPatients text,\n",
    "  MedicalHistory text,\n",
    "  Medication text  \n",
    ");\n",
    "\"\"\"\n",
    "\n",
    "dashmed.connect()\n",
    "dashmed.delete_table('patients')\n",
    "dashmed.create_table(patients)\n",
    "dashmed.insert_csv_data('patient_data/patients.csv')\n",
    "dashmed.show_tables()\n",
    "dashmed.close()"
   ]
  },
  {
   "cell_type": "code",
   "execution_count": 55,
   "metadata": {},
   "outputs": [
    {
     "name": "stdout",
     "output_type": "stream",
     "text": [
      "Data from patient_data/patient_bp/23989_BP.csv added to 23989_BP table.\n",
      "Connection Closed\n",
      "Data from patient_data/patient_bp/30110_BP.csv added to 30110_BP table.\n",
      "Connection Closed\n",
      "Data from patient_data/patient_bp/30111_BP.csv added to 30111_BP table.\n",
      "Connection Closed\n",
      "Data from patient_data/patient_bp/33764_BP.csv added to 33764_BP table.\n",
      "Connection Closed\n",
      "Data from patient_data/patient_bp/40284_BP.csv added to 40284_BP table.\n",
      "Connection Closed\n",
      "Data from patient_data/patient_bp/54658_BP.csv added to 54658_BP table.\n",
      "Connection Closed\n",
      "Data from patient_data/patient_bp/57180_BP.csv added to 57180_BP table.\n",
      "Connection Closed\n",
      "Data from patient_data/patient_bp/97021_BP.csv added to 97021_BP table.\n",
      "Connection Closed\n",
      "Tables in the database:\n",
      "patients\n",
      "23989_BP\n",
      "30110_BP\n",
      "30111_BP\n",
      "33764_BP\n",
      "40284_BP\n",
      "54658_BP\n",
      "57180_BP\n",
      "97021_BP\n",
      "Connection Closed\n"
     ]
    }
   ],
   "source": [
    "# Inserting BP Tables\n",
    "\n",
    "for filename in os.listdir('patient_data/patient_bp/'):\n",
    "    if filename.endswith(\".csv\"):\n",
    "        csv_file = os.path.join('patient_data/patient_bp/', filename)\n",
    "        dashmed.connect()\n",
    "        dashmed.insert_csv_data(csv_file)\n",
    "        dashmed.close()\n",
    "\n",
    "dashmed.connect()    \n",
    "dashmed.show_tables()\n",
    "dashmed.close()"
   ]
  },
  {
   "cell_type": "code",
   "execution_count": 56,
   "metadata": {},
   "outputs": [],
   "source": [
    "class Summary():\n",
    "    \"\"\" Summary class to retrieve patient data from an input patient ID. \"\"\"\n",
    "    \n",
    "    def __init__(self, db):\n",
    "        self.db = db\n",
    "        self.PatientId = None\n",
    "\n",
    "    def input_patient_id(self):\n",
    "        \"\"\" Input the patient ID number. \"\"\"\n",
    "        self.PatientId = input('Enter a patient ID: ')\n",
    "\n",
    "    def patient_exists(self):\n",
    "        \"\"\" Check if the patient ID number does exist in the database. \"\"\"\n",
    "        if self.PatientId is None:\n",
    "            return False\n",
    "        \n",
    "        query = 'SELECT COUNT(*) FROM patients WHERE PatientId = ?'  # Placeholder added\n",
    "\n",
    "        try:\n",
    "            self.db.connect()\n",
    "            cursor = self.db.conn.cursor()\n",
    "            cursor.execute(query, (self.PatientId,))  # Correctly binding the patient ID\n",
    "            result = cursor.fetchone()\n",
    "            return result[0] > 0\n",
    "        \n",
    "        except sql.Error as e:\n",
    "            print(e)\n",
    "            return False\n",
    "\n",
    "        finally:\n",
    "            self.db.close()\n",
    "\n",
    "    def getdata(self):\n",
    "        \"\"\" Return the row containing the patient information as a list. \"\"\"\n",
    "        if not self.patient_exists():\n",
    "            print(\"Patient ID not valid. Please input valid patient ID.\")\n",
    "            return\n",
    "\n",
    "        query = 'SELECT * FROM patients WHERE PatientId = ?'  # Placeholder added\n",
    "\n",
    "        try:\n",
    "            self.db.connect()\n",
    "            cursor = self.db.conn.cursor()\n",
    "            cursor.execute(query, (self.PatientId,))  # Correctly binding the patient ID\n",
    "            patient_data = [n for n in cursor.fetchone()]\n",
    "            \n",
    "            return patient_data\n",
    "        \n",
    "        except sql.Error as e:\n",
    "            print(e)\n",
    "\n",
    "        finally:\n",
    "            self.db.close()\n"
   ]
  },
  {
   "cell_type": "code",
   "execution_count": 57,
   "metadata": {},
   "outputs": [],
   "source": [
    "test = Summary(dashmed)\n",
    "test.input_patient_id()"
   ]
  },
  {
   "cell_type": "code",
   "execution_count": 58,
   "metadata": {},
   "outputs": [
    {
     "name": "stdout",
     "output_type": "stream",
     "text": [
      "Connection Closed\n",
      "Connection Closed\n"
     ]
    },
    {
     "data": {
      "text/plain": [
       "[23989,\n",
       " 'Edward',\n",
       " 'Johnson',\n",
       " '101 Maple Ave',\n",
       " '(555) 123-4567',\n",
       " 'M',\n",
       " '1989-01-24',\n",
       " 34,\n",
       " 'Diana Smith',\n",
       " 'Hypertension',\n",
       " 'Lisinopril']"
      ]
     },
     "execution_count": 58,
     "metadata": {},
     "output_type": "execute_result"
    }
   ],
   "source": [
    "test.getdata()"
   ]
  },
  {
   "cell_type": "code",
   "execution_count": 59,
   "metadata": {},
   "outputs": [],
   "source": [
    "class Dashboard:\n",
    "\n",
    "    def __init__(self, summary):\n",
    "        \"\"\" Initialize with a Summary object \"\"\"\n",
    "        self.summary = summary\n",
    "\n",
    "    def display_dash(self):\n",
    "        \"\"\" Display the patient data in a simple dashboard format. \"\"\"\n",
    "        patient_data = self.summary.getdata()\n",
    "        \n",
    "        PatientId, FirstName, LastName, Address, Phone, Sex, Birthdate, Age, RelatedPatients, MedicalHistory, Medication = patient_data\n",
    "\n",
    "        # Simple dashboard display\n",
    "        print(\"Patient Dashboard\")\n",
    "        print(\"-------------------------------------\")\n",
    "        print(f\"Patient ID: {PatientId}\")\n",
    "        print(f\"First name: {FirstName}\")\n",
    "        print(f\"Last name: {LastName}\")\n",
    "        print(f\"Address: {Address}\")\n",
    "        print(f\"Phone: {Phone}\")\n",
    "        print(f\"Sex: {Sex}\")\n",
    "        print(f\"Brithdate: {Birthdate}\")\n",
    "        print(f\"Age: {Age}\")\n",
    "        print(f\"Related patients: {RelatedPatients}\")\n",
    "        print(f\"Medical history: {MedicalHistory}\")\n",
    "        print(f\"Medication: {Medication}\")\n",
    "        print(\"-------------------------------------\")\n"
   ]
  },
  {
   "cell_type": "code",
   "execution_count": 60,
   "metadata": {},
   "outputs": [
    {
     "name": "stdout",
     "output_type": "stream",
     "text": [
      "Connection Closed\n",
      "Connection Closed\n",
      "Patient Dashboard\n",
      "-------------------------------------\n",
      "Patient ID: 23989\n",
      "First name: Edward\n",
      "Last name: Johnson\n",
      "Address: 101 Maple Ave\n",
      "Phone: (555) 123-4567\n",
      "Sex: M\n",
      "Brithdate: 1989-01-24\n",
      "Age: 34\n",
      "Related patients: Diana Smith\n",
      "Medical history: Hypertension\n",
      "Medication: Lisinopril\n",
      "-------------------------------------\n"
     ]
    }
   ],
   "source": [
    "# Test code\n",
    "dash = Dashboard(test)\n",
    "dash.display_dash()"
   ]
  },
  {
   "cell_type": "code",
   "execution_count": null,
   "metadata": {},
   "outputs": [],
   "source": []
  }
 ],
 "metadata": {
  "kernelspec": {
   "display_name": "myenv",
   "language": "python",
   "name": "python3"
  },
  "language_info": {
   "codemirror_mode": {
    "name": "ipython",
    "version": 3
   },
   "file_extension": ".py",
   "mimetype": "text/x-python",
   "name": "python",
   "nbconvert_exporter": "python",
   "pygments_lexer": "ipython3",
   "version": "3.11.5"
  }
 },
 "nbformat": 4,
 "nbformat_minor": 2
}
