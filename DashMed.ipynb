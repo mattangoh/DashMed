{
 "cells": [
  {
   "cell_type": "code",
   "execution_count": 38,
   "metadata": {},
   "outputs": [],
   "source": [
    "import sqlite3 as sql\n",
    "import pandas as pd"
   ]
  },
  {
   "cell_type": "code",
   "execution_count": 39,
   "metadata": {},
   "outputs": [],
   "source": [
    "class SQLiteDB:\n",
    "    \n",
    "    def __init__(self, db_file):\n",
    "        self.db_file = db_file\n",
    "        self.conn = None\n",
    "        \n",
    "    def connect(self):\n",
    "        \"\"\"Create a database connection to the SQLite database.\"\"\"\n",
    "        try:\n",
    "            self.conn = sql.connect(self.db_file)\n",
    "        except sql.Error as e:\n",
    "            print(e)\n",
    "            \n",
    "    def create_table(self, create_table_sql):\n",
    "        \"\"\"Create a table from the create_table_sql statement.\"\"\"\n",
    "        try:\n",
    "            c = self.conn.cursor()\n",
    "            c.execute(create_table_sql)\n",
    "            print(\"Table created successfully\")\n",
    "        except sql.Error as e:\n",
    "            print(e)\n",
    "    \n",
    "    def delete_table(self, table_name):\n",
    "        \"\"\"Delete a table from the database.\"\"\"\n",
    "        try:\n",
    "            c = self.conn.cursor()\n",
    "            c.execute(f\"DROP TABLE IF EXISTS {table_name}\")\n",
    "            print(f\"Table {table_name} deleted successfully\")\n",
    "        except sql.Error as e:\n",
    "            print(e)\n",
    "    \n",
    "    def show_tables(self):\n",
    "        \"\"\"Display all tables in the database.\"\"\"\n",
    "        query = \"SELECT name FROM sqlite_master WHERE type='table';\"\n",
    "        try:\n",
    "            c = self.conn.cursor()\n",
    "            c.execute(query)\n",
    "            tables = c.fetchall()\n",
    "            print(\"Tables in the database:\")\n",
    "            for table in tables:\n",
    "                print(table[0])\n",
    "        except sql.Error as e:\n",
    "            print(e)\n",
    "    \n",
    "    def close(self):\n",
    "        \"\"\"Close the database connection.\"\"\"\n",
    "        if self.conn:\n",
    "            self.conn.close()\n",
    "            print(\"Connection Closed\")\n",
    "            "
   ]
  },
  {
   "cell_type": "code",
   "execution_count": 40,
   "metadata": {},
   "outputs": [
    {
     "name": "stdout",
     "output_type": "stream",
     "text": [
      "Table created successfully\n",
      "Connection Closed\n"
     ]
    }
   ],
   "source": [
    "#create DashMed db\n",
    "\n",
    "dashmed = SQLiteDB('DashMed.db')\n",
    "\n",
    "test_table = \"\"\"\n",
    "CREATE TABLE test (\n",
    "  PatientID integer PRIMARY KEY,\n",
    "  FirstName text NOT NULL,\n",
    "  LastName text NOT NULL,\n",
    "  Address text NOT NULL,\n",
    "  Phone text NOT NULL,\n",
    "  Sex text NOT NULL,\n",
    "  Birthdate date NOT NULL,\n",
    "  Age integer NOT NULL,\n",
    "  RelatedPatient text,\n",
    "  MedicalHistory text,\n",
    "  Medication text  \n",
    ");\n",
    "\"\"\"\n",
    "\n",
    "dashmed.connect()\n",
    "dashmed.create_table(test_table)\n",
    "dashmed.close()"
   ]
  },
  {
   "cell_type": "code",
   "execution_count": 41,
   "metadata": {},
   "outputs": [
    {
     "name": "stdout",
     "output_type": "stream",
     "text": [
      "Tables in the database:\n",
      "test\n",
      "Connection Closed\n"
     ]
    }
   ],
   "source": [
    "#show tables\n",
    "\n",
    "dashmed.connect()\n",
    "dashmed.show_tables()\n",
    "dashmed.close()"
   ]
  },
  {
   "cell_type": "code",
   "execution_count": 42,
   "metadata": {},
   "outputs": [
    {
     "name": "stdout",
     "output_type": "stream",
     "text": [
      "Table test deleted successfully\n",
      "Connection Closed\n"
     ]
    }
   ],
   "source": [
    "#delete tables\n",
    "\n",
    "dashmed.connect()\n",
    "dashmed.delete_table('test')\n",
    "dashmed.close()"
   ]
  },
  {
   "cell_type": "code",
   "execution_count": 43,
   "metadata": {},
   "outputs": [
    {
     "name": "stdout",
     "output_type": "stream",
     "text": [
      "Tables in the database:\n",
      "Connection Closed\n"
     ]
    }
   ],
   "source": [
    "# confirm db is empty\n",
    "\n",
    "dashmed.connect()\n",
    "dashmed.show_tables()\n",
    "dashmed.close()"
   ]
  }
 ],
 "metadata": {
  "kernelspec": {
   "display_name": "myenv",
   "language": "python",
   "name": "python3"
  },
  "language_info": {
   "codemirror_mode": {
    "name": "ipython",
    "version": 3
   },
   "file_extension": ".py",
   "mimetype": "text/x-python",
   "name": "python",
   "nbconvert_exporter": "python",
   "pygments_lexer": "ipython3",
   "version": "3.11.5"
  }
 },
 "nbformat": 4,
 "nbformat_minor": 2
}
