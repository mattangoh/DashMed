{
 "cells": [
  {
   "cell_type": "code",
   "execution_count": 2,
   "metadata": {},
   "outputs": [],
   "source": [
    "import sqlite3 as sql\n",
    "import pandas as pd\n",
    "import os"
   ]
  },
  {
   "cell_type": "code",
   "execution_count": 3,
   "metadata": {},
   "outputs": [],
   "source": [
    "class SQLiteDB:\n",
    "    \n",
    "    def __init__(self, db):\n",
    "        self.db = db\n",
    "        self.conn = None\n",
    "        \n",
    "    def connect(self):\n",
    "        \"\"\"Create a database connection to the SQLite database.\"\"\"\n",
    "        try:\n",
    "            self.conn = sql.connect(self.db)\n",
    "        except sql.Error as e:\n",
    "            print(e)\n",
    "            \n",
    "    def create_table(self, create_table_sql):\n",
    "        \"\"\"Create a table from the create_table_sql statement.\"\"\"\n",
    "        try:\n",
    "            c = self.conn.cursor()\n",
    "            c.execute(create_table_sql)\n",
    "            print(\"Table created successfully\")\n",
    "        except sql.Error as e:\n",
    "            print(e)\n",
    "    \n",
    "    def delete_table(self, table_name):\n",
    "        \"\"\"Delete a table from the database.\"\"\"\n",
    "        try:\n",
    "            c = self.conn.cursor()\n",
    "            c.execute(f\"DROP TABLE IF EXISTS {table_name}\")\n",
    "            print(f\"Table {table_name} deleted successfully\")\n",
    "        except sql.Error as e:\n",
    "            print(e)\n",
    "    \n",
    "    def show_tables(self):\n",
    "        \"\"\"Display all tables in the database.\"\"\"\n",
    "        query = \"SELECT name FROM sqlite_master WHERE type='table';\"\n",
    "        try:\n",
    "            c = self.conn.cursor()\n",
    "            c.execute(query)\n",
    "            tables = c.fetchall()\n",
    "            print(\"Tables in the database:\")\n",
    "            for table in tables:\n",
    "                print(table[0])\n",
    "        except sql.Error as e:\n",
    "            print(e)\n",
    "    \n",
    "    def close(self):\n",
    "        \"\"\"Close the database connection.\"\"\"\n",
    "        if self.conn:\n",
    "            self.conn.close()\n",
    "            print(\"Connection Closed\")\n",
    "            \n",
    "    def insert_csv_data(self, csv_file):\n",
    "        \"\"\"\n",
    "        Add data from a CSV file to a table in the database.\n",
    "        \"\"\"\n",
    "        # Derive table name from the CSV file name (excluding the extension)\n",
    "        table_name = os.path.splitext(os.path.basename(csv_file))[0]\n",
    "        \n",
    "        df = pd.read_csv(csv_file)\n",
    "\n",
    "        # Insert the data into the table, create the table if it doesn't exist\n",
    "        df.to_sql(table_name, self.conn, if_exists='append', index=False)\n",
    "\n",
    "        print(f\"Data from {csv_file} added to {table_name} table.\")"
   ]
  },
  {
   "cell_type": "code",
   "execution_count": 4,
   "metadata": {},
   "outputs": [
    {
     "name": "stdout",
     "output_type": "stream",
     "text": [
      "Table created successfully\n",
      "Connection Closed\n"
     ]
    }
   ],
   "source": [
    "#create DashMed db\n",
    "\n",
    "dashmed = SQLiteDB('DashMed.db')\n",
    "\n",
    "patients = \"\"\"\n",
    "CREATE TABLE IF NOT EXISTS patients (\n",
    "  PatientId integer PRIMARY KEY,\n",
    "  FirstName text NOT NULL,\n",
    "  LastName text NOT NULL,\n",
    "  Address text NOT NULL,\n",
    "  Phone text NOT NULL,\n",
    "  Sex text NOT NULL,\n",
    "  Birthdate date NOT NULL,\n",
    "  Age integer NOT NULL,\n",
    "  RelatedPatients text,\n",
    "  MedicalHistory text,\n",
    "  Medication text  \n",
    ");\n",
    "\"\"\"\n",
    "\n",
    "dashmed.connect()\n",
    "dashmed.create_table(patients)\n",
    "dashmed.close()"
   ]
  },
  {
   "cell_type": "code",
   "execution_count": 5,
   "metadata": {},
   "outputs": [
    {
     "name": "stdout",
     "output_type": "stream",
     "text": [
      "Tables in the database:\n",
      "patients\n",
      "Connection Closed\n"
     ]
    }
   ],
   "source": [
    "#show tables\n",
    "\n",
    "dashmed.connect()\n",
    "dashmed.show_tables()\n",
    "dashmed.close()"
   ]
  },
  {
   "cell_type": "code",
   "execution_count": 6,
   "metadata": {},
   "outputs": [
    {
     "ename": "IntegrityError",
     "evalue": "UNIQUE constraint failed: patients.PatientId",
     "output_type": "error",
     "traceback": [
      "\u001b[0;31m---------------------------------------------------------------------------\u001b[0m",
      "\u001b[0;31mIntegrityError\u001b[0m                            Traceback (most recent call last)",
      "\u001b[1;32m/Users/shaylatran/UBC MDS 23:24/DATA 533/DashMed/DashMed.ipynb Cell 5\u001b[0m line \u001b[0;36m4\n\u001b[1;32m      <a href='vscode-notebook-cell:/Users/shaylatran/UBC%20MDS%2023%3A24/DATA%20533/DashMed/DashMed.ipynb#W4sZmlsZQ%3D%3D?line=0'>1</a>\u001b[0m \u001b[39m#add data to patients\u001b[39;00m\n\u001b[1;32m      <a href='vscode-notebook-cell:/Users/shaylatran/UBC%20MDS%2023%3A24/DATA%20533/DashMed/DashMed.ipynb#W4sZmlsZQ%3D%3D?line=2'>3</a>\u001b[0m dashmed\u001b[39m.\u001b[39mconnect()\n\u001b[0;32m----> <a href='vscode-notebook-cell:/Users/shaylatran/UBC%20MDS%2023%3A24/DATA%20533/DashMed/DashMed.ipynb#W4sZmlsZQ%3D%3D?line=3'>4</a>\u001b[0m dashmed\u001b[39m.\u001b[39minsert_csv_data(\u001b[39m'\u001b[39m\u001b[39mpatient_data/patients.csv\u001b[39m\u001b[39m'\u001b[39m)\n\u001b[1;32m      <a href='vscode-notebook-cell:/Users/shaylatran/UBC%20MDS%2023%3A24/DATA%20533/DashMed/DashMed.ipynb#W4sZmlsZQ%3D%3D?line=4'>5</a>\u001b[0m dashmed\u001b[39m.\u001b[39mclose()\n",
      "\u001b[1;32m/Users/shaylatran/UBC MDS 23:24/DATA 533/DashMed/DashMed.ipynb Cell 5\u001b[0m line \u001b[0;36m6\n\u001b[1;32m     <a href='vscode-notebook-cell:/Users/shaylatran/UBC%20MDS%2023%3A24/DATA%20533/DashMed/DashMed.ipynb#W4sZmlsZQ%3D%3D?line=57'>58</a>\u001b[0m df \u001b[39m=\u001b[39m pd\u001b[39m.\u001b[39mread_csv(csv_file)\n\u001b[1;32m     <a href='vscode-notebook-cell:/Users/shaylatran/UBC%20MDS%2023%3A24/DATA%20533/DashMed/DashMed.ipynb#W4sZmlsZQ%3D%3D?line=59'>60</a>\u001b[0m \u001b[39m# Insert the data into the table, create the table if it doesn't exist\u001b[39;00m\n\u001b[0;32m---> <a href='vscode-notebook-cell:/Users/shaylatran/UBC%20MDS%2023%3A24/DATA%20533/DashMed/DashMed.ipynb#W4sZmlsZQ%3D%3D?line=60'>61</a>\u001b[0m df\u001b[39m.\u001b[39mto_sql(table_name, \u001b[39mself\u001b[39m\u001b[39m.\u001b[39mconn, if_exists\u001b[39m=\u001b[39m\u001b[39m'\u001b[39m\u001b[39mappend\u001b[39m\u001b[39m'\u001b[39m, index\u001b[39m=\u001b[39m\u001b[39mFalse\u001b[39;00m)\n\u001b[1;32m     <a href='vscode-notebook-cell:/Users/shaylatran/UBC%20MDS%2023%3A24/DATA%20533/DashMed/DashMed.ipynb#W4sZmlsZQ%3D%3D?line=62'>63</a>\u001b[0m \u001b[39mprint\u001b[39m(\u001b[39mf\u001b[39m\u001b[39m\"\u001b[39m\u001b[39mData from \u001b[39m\u001b[39m{\u001b[39;00mcsv_file\u001b[39m}\u001b[39;00m\u001b[39m added to \u001b[39m\u001b[39m{\u001b[39;00mtable_name\u001b[39m}\u001b[39;00m\u001b[39m table.\u001b[39m\u001b[39m\"\u001b[39m)\n",
      "File \u001b[0;32m~/anaconda3/lib/python3.11/site-packages/pandas/core/generic.py:2878\u001b[0m, in \u001b[0;36mNDFrame.to_sql\u001b[0;34m(self, name, con, schema, if_exists, index, index_label, chunksize, dtype, method)\u001b[0m\n\u001b[1;32m   2713\u001b[0m \u001b[39m\u001b[39m\u001b[39m\"\"\"\u001b[39;00m\n\u001b[1;32m   2714\u001b[0m \u001b[39mWrite records stored in a DataFrame to a SQL database.\u001b[39;00m\n\u001b[1;32m   2715\u001b[0m \n\u001b[0;32m   (...)\u001b[0m\n\u001b[1;32m   2874\u001b[0m \u001b[39m[(1,), (None,), (2,)]\u001b[39;00m\n\u001b[1;32m   2875\u001b[0m \u001b[39m\"\"\"\u001b[39;00m  \u001b[39m# noqa:E501\u001b[39;00m\n\u001b[1;32m   2876\u001b[0m \u001b[39mfrom\u001b[39;00m \u001b[39mpandas\u001b[39;00m\u001b[39m.\u001b[39;00m\u001b[39mio\u001b[39;00m \u001b[39mimport\u001b[39;00m sql\n\u001b[0;32m-> 2878\u001b[0m \u001b[39mreturn\u001b[39;00m sql\u001b[39m.\u001b[39mto_sql(\n\u001b[1;32m   2879\u001b[0m     \u001b[39mself\u001b[39m,\n\u001b[1;32m   2880\u001b[0m     name,\n\u001b[1;32m   2881\u001b[0m     con,\n\u001b[1;32m   2882\u001b[0m     schema\u001b[39m=\u001b[39mschema,\n\u001b[1;32m   2883\u001b[0m     if_exists\u001b[39m=\u001b[39mif_exists,\n\u001b[1;32m   2884\u001b[0m     index\u001b[39m=\u001b[39mindex,\n\u001b[1;32m   2885\u001b[0m     index_label\u001b[39m=\u001b[39mindex_label,\n\u001b[1;32m   2886\u001b[0m     chunksize\u001b[39m=\u001b[39mchunksize,\n\u001b[1;32m   2887\u001b[0m     dtype\u001b[39m=\u001b[39mdtype,\n\u001b[1;32m   2888\u001b[0m     method\u001b[39m=\u001b[39mmethod,\n\u001b[1;32m   2889\u001b[0m )\n",
      "File \u001b[0;32m~/anaconda3/lib/python3.11/site-packages/pandas/io/sql.py:769\u001b[0m, in \u001b[0;36mto_sql\u001b[0;34m(frame, name, con, schema, if_exists, index, index_label, chunksize, dtype, method, engine, **engine_kwargs)\u001b[0m\n\u001b[1;32m    764\u001b[0m     \u001b[39mraise\u001b[39;00m \u001b[39mNotImplementedError\u001b[39;00m(\n\u001b[1;32m    765\u001b[0m         \u001b[39m\"\u001b[39m\u001b[39m'\u001b[39m\u001b[39mframe\u001b[39m\u001b[39m'\u001b[39m\u001b[39m argument should be either a Series or a DataFrame\u001b[39m\u001b[39m\"\u001b[39m\n\u001b[1;32m    766\u001b[0m     )\n\u001b[1;32m    768\u001b[0m \u001b[39mwith\u001b[39;00m pandasSQL_builder(con, schema\u001b[39m=\u001b[39mschema, need_transaction\u001b[39m=\u001b[39m\u001b[39mTrue\u001b[39;00m) \u001b[39mas\u001b[39;00m pandas_sql:\n\u001b[0;32m--> 769\u001b[0m     \u001b[39mreturn\u001b[39;00m pandas_sql\u001b[39m.\u001b[39mto_sql(\n\u001b[1;32m    770\u001b[0m         frame,\n\u001b[1;32m    771\u001b[0m         name,\n\u001b[1;32m    772\u001b[0m         if_exists\u001b[39m=\u001b[39mif_exists,\n\u001b[1;32m    773\u001b[0m         index\u001b[39m=\u001b[39mindex,\n\u001b[1;32m    774\u001b[0m         index_label\u001b[39m=\u001b[39mindex_label,\n\u001b[1;32m    775\u001b[0m         schema\u001b[39m=\u001b[39mschema,\n\u001b[1;32m    776\u001b[0m         chunksize\u001b[39m=\u001b[39mchunksize,\n\u001b[1;32m    777\u001b[0m         dtype\u001b[39m=\u001b[39mdtype,\n\u001b[1;32m    778\u001b[0m         method\u001b[39m=\u001b[39mmethod,\n\u001b[1;32m    779\u001b[0m         engine\u001b[39m=\u001b[39mengine,\n\u001b[1;32m    780\u001b[0m         \u001b[39m*\u001b[39m\u001b[39m*\u001b[39mengine_kwargs,\n\u001b[1;32m    781\u001b[0m     )\n",
      "File \u001b[0;32m~/anaconda3/lib/python3.11/site-packages/pandas/io/sql.py:2379\u001b[0m, in \u001b[0;36mSQLiteDatabase.to_sql\u001b[0;34m(self, frame, name, if_exists, index, index_label, schema, chunksize, dtype, method, engine, **engine_kwargs)\u001b[0m\n\u001b[1;32m   2369\u001b[0m table \u001b[39m=\u001b[39m SQLiteTable(\n\u001b[1;32m   2370\u001b[0m     name,\n\u001b[1;32m   2371\u001b[0m     \u001b[39mself\u001b[39m,\n\u001b[0;32m   (...)\u001b[0m\n\u001b[1;32m   2376\u001b[0m     dtype\u001b[39m=\u001b[39mdtype,\n\u001b[1;32m   2377\u001b[0m )\n\u001b[1;32m   2378\u001b[0m table\u001b[39m.\u001b[39mcreate()\n\u001b[0;32m-> 2379\u001b[0m \u001b[39mreturn\u001b[39;00m table\u001b[39m.\u001b[39minsert(chunksize, method)\n",
      "File \u001b[0;32m~/anaconda3/lib/python3.11/site-packages/pandas/io/sql.py:1023\u001b[0m, in \u001b[0;36mSQLTable.insert\u001b[0;34m(self, chunksize, method)\u001b[0m\n\u001b[1;32m   1020\u001b[0m     \u001b[39mbreak\u001b[39;00m\n\u001b[1;32m   1022\u001b[0m chunk_iter \u001b[39m=\u001b[39m \u001b[39mzip\u001b[39m(\u001b[39m*\u001b[39m(arr[start_i:end_i] \u001b[39mfor\u001b[39;00m arr \u001b[39min\u001b[39;00m data_list))\n\u001b[0;32m-> 1023\u001b[0m num_inserted \u001b[39m=\u001b[39m exec_insert(conn, keys, chunk_iter)\n\u001b[1;32m   1024\u001b[0m \u001b[39m# GH 46891\u001b[39;00m\n\u001b[1;32m   1025\u001b[0m \u001b[39mif\u001b[39;00m is_integer(num_inserted):\n",
      "File \u001b[0;32m~/anaconda3/lib/python3.11/site-packages/pandas/io/sql.py:2075\u001b[0m, in \u001b[0;36mSQLiteTable._execute_insert\u001b[0;34m(self, conn, keys, data_iter)\u001b[0m\n\u001b[1;32m   2073\u001b[0m \u001b[39mdef\u001b[39;00m \u001b[39m_execute_insert\u001b[39m(\u001b[39mself\u001b[39m, conn, keys, data_iter) \u001b[39m-\u001b[39m\u001b[39m>\u001b[39m \u001b[39mint\u001b[39m:\n\u001b[1;32m   2074\u001b[0m     data_list \u001b[39m=\u001b[39m \u001b[39mlist\u001b[39m(data_iter)\n\u001b[0;32m-> 2075\u001b[0m     conn\u001b[39m.\u001b[39mexecutemany(\u001b[39mself\u001b[39m\u001b[39m.\u001b[39minsert_statement(num_rows\u001b[39m=\u001b[39m\u001b[39m1\u001b[39m), data_list)\n\u001b[1;32m   2076\u001b[0m     \u001b[39mreturn\u001b[39;00m conn\u001b[39m.\u001b[39mrowcount\n",
      "\u001b[0;31mIntegrityError\u001b[0m: UNIQUE constraint failed: patients.PatientId"
     ]
    }
   ],
   "source": [
    "#add data to patients\n",
    "\n",
    "dashmed.connect()\n",
    "dashmed.insert_csv_data('patient_data/patients.csv')\n",
    "dashmed.close()"
   ]
  },
  {
   "cell_type": "code",
   "execution_count": null,
   "metadata": {},
   "outputs": [
    {
     "name": "stdout",
     "output_type": "stream",
     "text": [
      "Table patients deleted successfully\n",
      "Connection Closed\n"
     ]
    }
   ],
   "source": [
    "# confirm db is empty\n",
    "\n",
    "dashmed.connect()\n",
    "dashmed.delete_table('patients')\n",
    "dashmed.close()"
   ]
  },
  {
   "cell_type": "code",
   "execution_count": 7,
   "metadata": {},
   "outputs": [],
   "source": [
    "class Summary():\n",
    "    \"\"\" Summary class to retrieve patient data from an input patient ID. \"\"\"\n",
    "    \n",
    "    def __init__(self, db):\n",
    "        self.db = db\n",
    "        self.PatientId = None\n",
    "\n",
    "    def input_patient_id(self):\n",
    "        \"\"\" Input the patient ID number. \"\"\"\n",
    "        self.PatientId = input('Enter a patient ID: ')\n",
    "\n",
    "    def patient_exists(self):\n",
    "        \"\"\" Check if the patient ID number does exist in the database. \"\"\"\n",
    "        if self.PatientId is None:\n",
    "            return False\n",
    "        \n",
    "        query = 'SELECT COUNT(*) FROM patients WHERE PatientId = ?'  # Placeholder added\n",
    "\n",
    "        try:\n",
    "            self.db.connect()\n",
    "            cursor = self.db.conn.cursor()\n",
    "            cursor.execute(query, (self.PatientId,))  # Correctly binding the patient ID\n",
    "            result = cursor.fetchone()\n",
    "            return result[0] > 0\n",
    "        \n",
    "        except sql.Error as e:\n",
    "            print(e)\n",
    "            return False\n",
    "\n",
    "        finally:\n",
    "            self.db.close()\n",
    "\n",
    "    def getdata(self):\n",
    "        \"\"\" Return the row containing the patient information as a list. \"\"\"\n",
    "        if not self.patient_exists():\n",
    "            print(\"Patient ID not valid. Please input valid patient ID.\")\n",
    "            return\n",
    "\n",
    "        query = 'SELECT * FROM patients WHERE PatientId = ?'  # Placeholder added\n",
    "\n",
    "        try:\n",
    "            self.db.connect()\n",
    "            cursor = self.db.conn.cursor()\n",
    "            cursor.execute(query, (self.PatientId,))  # Correctly binding the patient ID\n",
    "            patient_data = [n for n in cursor.fetchone()]\n",
    "            \n",
    "            return patient_data\n",
    "        \n",
    "        except sql.Error as e:\n",
    "            print(e)\n",
    "\n",
    "        finally:\n",
    "            self.db.close()\n"
   ]
  },
  {
   "cell_type": "code",
   "execution_count": 8,
   "metadata": {},
   "outputs": [],
   "source": [
    "test = Summary(dashmed)\n",
    "test.input_patient_id()"
   ]
  },
  {
   "cell_type": "code",
   "execution_count": 9,
   "metadata": {},
   "outputs": [
    {
     "name": "stdout",
     "output_type": "stream",
     "text": [
      "Connection Closed\n",
      "Connection Closed\n"
     ]
    },
    {
     "data": {
      "text/plain": [
       "[23989,\n",
       " 'Edward',\n",
       " 'Johnson',\n",
       " '101 Maple Ave',\n",
       " '(555) 123-4567',\n",
       " 'M',\n",
       " '1989-01-24',\n",
       " 34,\n",
       " 'Diana Smith',\n",
       " 'Hypertension',\n",
       " 'Lisinopril']"
      ]
     },
     "execution_count": 9,
     "metadata": {},
     "output_type": "execute_result"
    }
   ],
   "source": [
    "test.getdata()"
   ]
  },
  {
   "cell_type": "code",
   "execution_count": 14,
   "metadata": {},
   "outputs": [],
   "source": [
    "class Dashboard:\n",
    "\n",
    "    def __init__(self, summary):\n",
    "        \"\"\" Initialize with a Summary object \"\"\"\n",
    "        self.summary = summary\n",
    "\n",
    "    def display_dash(self):\n",
    "        \"\"\" Display the patient data in a simple dashboard format. \"\"\"\n",
    "        patient_data = self.summary.getdata()\n",
    "        \n",
    "        PatientId, FirstName, LastName, Address, Phone, Sex, Birthdate, Age, RelatedPatients, MedicalHistory, Medication = patient_data\n",
    "\n",
    "        # Simple dashboard display\n",
    "        print(\"Patient Dashboard\")\n",
    "        print(\"-------------------------------------\")\n",
    "        print(f\"Patient ID: {PatientId}\")\n",
    "        print(f\"First name: {FirstName}\")\n",
    "        print(f\"Last name: {LastName}\")\n",
    "        print(f\"Address: {Address}\")\n",
    "        print(f\"Phone: {Phone}\")\n",
    "        print(f\"Sex: {Sex}\")\n",
    "        print(f\"Brithdate: {Birthdate}\")\n",
    "        print(f\"Age: {Age}\")\n",
    "        print(f\"Related patients: {RelatedPatients}\")\n",
    "        print(f\"Medical history: {MedicalHistory}\")\n",
    "        print(f\"Medication: {Medication}\")\n",
    "        print(\"-------------------------------------\")\n"
   ]
  },
  {
   "cell_type": "code",
   "execution_count": 15,
   "metadata": {},
   "outputs": [
    {
     "name": "stdout",
     "output_type": "stream",
     "text": [
      "Connection Closed\n",
      "Connection Closed\n",
      "Patient Dashboard\n",
      "-------------------------------------\n",
      "Patient ID: 23989\n",
      "First name: Edward\n",
      "Last name: Johnson\n",
      "Address: 101 Maple Ave\n",
      "Phone: (555) 123-4567\n",
      "Sex: M\n",
      "Brithdate: 1989-01-24\n",
      "Age: 34\n",
      "Related patients: Diana Smith\n",
      "Medical history: Hypertension\n",
      "Medication: Lisinopril\n",
      "-------------------------------------\n"
     ]
    }
   ],
   "source": [
    "# Test code\n",
    "dash = Dashboard(test)\n",
    "dash.display_dash()"
   ]
  },
  {
   "cell_type": "code",
   "execution_count": null,
   "metadata": {},
   "outputs": [],
   "source": []
  }
 ],
 "metadata": {
  "kernelspec": {
   "display_name": "myenv",
   "language": "python",
   "name": "python3"
  },
  "language_info": {
   "codemirror_mode": {
    "name": "ipython",
    "version": 3
   },
   "file_extension": ".py",
   "mimetype": "text/x-python",
   "name": "python",
   "nbconvert_exporter": "python",
   "pygments_lexer": "ipython3",
   "version": "3.11.4"
  }
 },
 "nbformat": 4,
 "nbformat_minor": 2
}
