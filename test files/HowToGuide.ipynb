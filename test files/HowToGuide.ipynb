{
 "cells": [
  {
   "cell_type": "markdown",
   "metadata": {},
   "source": [
    "# How to use DashMed\n",
    "\n",
    "In this notebook, we will be demonstrating how the DashMed subpackage modules work and explore the methods and attributes of each module. The modules in this package are:\n",
    "\n",
    "##### `database`\n",
    "1. `sqlite`: creates the patient data database and includes data table manipulation methods\n",
    "2. `role`: defines user roles and their permissions when interacting with dashboards and the database.\n",
    "\n",
    "##### `dash`\n",
    "1. `display`: creates and displays the dashboards of patient information\n",
    "2. `bpgraph`: creates and displays the plot of the patient blood pressure and heart rate data into a line graph\n",
    "\n",
    "**_This notebook is to show how a user can utilize the DashMed package in Jupyter notebook. We will be using our demonstration data (toy data) to show how this package can be used, as an example._**"
   ]
  },
  {
   "cell_type": "markdown",
   "metadata": {},
   "source": [
    "***\n",
    "All the DashMed modules are imported in the `Initialize.py` and the `main.py` files."
   ]
  },
  {
   "cell_type": "markdown",
   "metadata": {},
   "source": [
    "We will then run the `Initialize.py` file which will set up all the infrastucture for our database. This will load all the .csv toy data into the database system using the `sqlite`."
   ]
  },
  {
   "cell_type": "code",
   "execution_count": null,
   "metadata": {},
   "outputs": [],
   "source": [
    "%run /DashMed/Initialize.py"
   ]
  },
  {
   "cell_type": "markdown",
   "metadata": {},
   "source": [
    "We can then run the `main.py` begin working with the package. This will start to prompt the user to create a user, login to the database, and to utilize the functions in the modules. For example, show the BP graphs, show the patient dashboard and the manipulate the database. "
   ]
  },
  {
   "cell_type": "code",
   "execution_count": 15,
   "metadata": {},
   "outputs": [],
   "source": [
    "%run /DashMed/main.py"
   ]
  }
 ],
 "metadata": {
  "kernelspec": {
   "display_name": "base",
   "language": "python",
   "name": "python3"
  },
  "language_info": {
   "codemirror_mode": {
    "name": "ipython",
    "version": 3
   },
   "file_extension": ".py",
   "mimetype": "text/x-python",
   "name": "python",
   "nbconvert_exporter": "python",
   "pygments_lexer": "ipython3",
   "version": "3.11.4"
  }
 },
 "nbformat": 4,
 "nbformat_minor": 2
}
